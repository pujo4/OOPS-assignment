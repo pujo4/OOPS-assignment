{
 "cells": [
  {
   "cell_type": "code",
   "execution_count": 6,
   "id": "f3c0f59b-0912-4020-a16e-4da71908505b",
   "metadata": {},
   "outputs": [],
   "source": [
    "# The def is used to define a funtion with arguements\n",
    "def odd(n1,n2):\n",
    "    if n1>n2:\n",
    "        return\n",
    "    if n1&1:\n",
    "      print(n1,end=\" \")\n",
    "      return odd(n1+2,n2)\n",
    "    else:\n",
    "      return odd(n1+1,n2)\n"
   ]
  },
  {
   "cell_type": "code",
   "execution_count": 7,
   "id": "c606ac1d-545f-4152-8d85-7b31398421b9",
   "metadata": {},
   "outputs": [
    {
     "name": "stdout",
     "output_type": "stream",
     "text": [
      "1 3 5 7 9 11 13 15 17 19 21 23 25 "
     ]
    }
   ],
   "source": [
    "odd(1,25)"
   ]
  },
  {
   "cell_type": "code",
   "execution_count": 8,
   "id": "72686cd0-63ef-48b2-8cab-8a58ea63ef51",
   "metadata": {},
   "outputs": [],
   "source": [
    "#We use *args and **kwargs as an argument when we are unsure about the number of arguments to pass in the functions.\n",
    "def tes2(*args):\n",
    "    t=[]\n",
    "    for i in args:\n",
    "        if type(i)==list:\n",
    "            t.append(i)\n",
    "    return t"
   ]
  },
  {
   "cell_type": "code",
   "execution_count": 9,
   "id": "8d1db6ec-8792-44a4-92aa-e85f8821ecb6",
   "metadata": {},
   "outputs": [
    {
     "data": {
      "text/plain": [
       "[[3, 5, 56, 46]]"
      ]
     },
     "execution_count": 9,
     "metadata": {},
     "output_type": "execute_result"
    }
   ],
   "source": [
    "tes2(1,2,3,4,[3,5,56,46])"
   ]
  },
  {
   "cell_type": "code",
   "execution_count": 10,
   "id": "4b187f20-cad6-4d03-bd0f-b6f7619e7dd6",
   "metadata": {},
   "outputs": [],
   "source": [
    "def tes3(**kwargs):\n",
    "    return kwargs"
   ]
  },
  {
   "cell_type": "code",
   "execution_count": 12,
   "id": "dad5a341-9382-468b-bf84-8d4bc2ec2baf",
   "metadata": {},
   "outputs": [
    {
     "data": {
      "text/plain": [
       "{'a': [4, 3, 8], 'b': ('sttt', 'yuiiio')}"
      ]
     },
     "execution_count": 12,
     "metadata": {},
     "output_type": "execute_result"
    }
   ],
   "source": [
    "tes3(a=[4,3,8],b=(\"sttt\",\"yuiiio\"))"
   ]
  },
  {
   "cell_type": "code",
   "execution_count": 14,
   "id": "7f74a756-fb6f-40d0-babe-df4d32ce5750",
   "metadata": {},
   "outputs": [
    {
     "name": "stdout",
     "output_type": "stream",
     "text": [
      "2\n",
      "4\n",
      "6\n",
      "8\n",
      "10\n"
     ]
    }
   ],
   "source": [
    "#Iterator in Python is an object that is used to iterate over iterable objects like lists, tuples, dicts, and sets. \n",
    "#The iterator object is initialized using the iter() method. \n",
    "my_list=[2, 4, 6, 8, 10, 12, 14, 16,18, 20]\n",
    "iterator = iter(my_list)\n",
    "print(next(iterator))\n",
    "print(next(iterator))\n",
    "print(next(iterator))\n",
    "print(next(iterator))\n",
    "print(next(iterator))\n",
    "\n"
   ]
  },
  {
   "cell_type": "code",
   "execution_count": 15,
   "id": "3c0efb51-b661-4608-a5e0-5b161eb7cdae",
   "metadata": {},
   "outputs": [
    {
     "name": "stdout",
     "output_type": "stream",
     "text": [
      "0\n",
      "1\n",
      "2\n"
     ]
    }
   ],
   "source": [
    "#A generator is a function that returns an iterator that produces a sequence of values when iterated over\n",
    "  #      &\n",
    "  #  the yield keyword is used to produce a value from the generator.\n",
    "def my_generator(n):\n",
    "\n",
    "    value = 0\n",
    "    while value < n:\n",
    "        yield value\n",
    "        value += 1\n",
    "for value in my_generator(3):\n",
    "    print(value)"
   ]
  },
  {
   "cell_type": "code",
   "execution_count": null,
   "id": "5fb9afcd-8ca1-4f28-a5a2-73bf860a79c6",
   "metadata": {},
   "outputs": [],
   "source": []
  }
 ],
 "metadata": {
  "kernelspec": {
   "display_name": "Python 3 (ipykernel)",
   "language": "python",
   "name": "python3"
  },
  "language_info": {
   "codemirror_mode": {
    "name": "ipython",
    "version": 3
   },
   "file_extension": ".py",
   "mimetype": "text/x-python",
   "name": "python",
   "nbconvert_exporter": "python",
   "pygments_lexer": "ipython3",
   "version": "3.10.8"
  }
 },
 "nbformat": 4,
 "nbformat_minor": 5
}
