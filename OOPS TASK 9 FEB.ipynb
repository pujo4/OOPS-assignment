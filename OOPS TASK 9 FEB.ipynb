{
 "cells": [
  {
   "cell_type": "code",
   "execution_count": 2,
   "id": "1303c4a0",
   "metadata": {},
   "outputs": [
    {
     "name": "stdout",
     "output_type": "stream",
     "text": [
      "Audi\n",
      "241kph\n",
      "112MPH\n"
     ]
    }
   ],
   "source": [
    "#1\n",
    "class Vehicle:\n",
    "  def __init__(self, name_of_vehicle, max_speed,avg_speed):\n",
    "    self.name_of_vehicle = name_of_vehicle\n",
    "    self.max_speed = max_speed\n",
    "    self.avg_speed = avg_speed\n",
    "\n",
    "v1 = Vehicle(\"Audi\", \"241kph\",\"112MPH\")\n",
    "\n",
    "print(v1.name_of_vehicle)\n",
    "print(v1.max_speed)\n",
    "print(v1.avg_speed)\n"
   ]
  },
  {
   "cell_type": "code",
   "execution_count": 3,
   "id": "0dda9c68",
   "metadata": {},
   "outputs": [
    {
     "name": "stdout",
     "output_type": "stream",
     "text": [
      "Mammals can give direct birth.\n",
      "Winged animals can flap.\n"
     ]
    }
   ],
   "source": [
    "#3 A class can be derived from more than one superclass in Python. This is called multiple inheritance.\n",
    "\n",
    "#For example, A class Bat is derived from superclasses Mammal and WingedAnimal. \n",
    "#It makes sense because bat is a mammal as well as a winged animal.\n",
    "class Mammal:\n",
    "    def mammal_info(self):\n",
    "        print(\"Mammals can give direct birth.\")\n",
    "\n",
    "class WingedAnimal:\n",
    "    def winged_animal_info(self):\n",
    "        print(\"Winged animals can flap.\")\n",
    "\n",
    "class Bat(Mammal, WingedAnimal):\n",
    "    pass\n",
    "\n",
    "\n",
    "b1 = Bat()\n",
    "\n",
    "b1.mammal_info()\n",
    "b1.winged_animal_info()"
   ]
  },
  {
   "cell_type": "code",
   "execution_count": 5,
   "id": "26f8faac",
   "metadata": {},
   "outputs": [
    {
     "name": "stdout",
     "output_type": "stream",
     "text": [
      "37\n",
      "98.60000000000001\n"
     ]
    }
   ],
   "source": [
    "#4 Getters: These are the methods used in Object-Oriented Programming (OOPS) which helps to access the private attributes \n",
    "#    from a class.\n",
    "#  Setters: These are the methods used in OOPS feature which helps to set the value to private attributes in a class.\n",
    "class Celsius:\n",
    "    def __init__(self, temperature=0):\n",
    "        self.set_temperature(temperature)\n",
    "\n",
    "    def to_fahrenheit(self):\n",
    "        return (self.get_temperature() * 1.8) + 32\n",
    "\n",
    "    \n",
    "    def get_temperature(self):\n",
    "        return self._temperature\n",
    "\n",
    "    \n",
    "    def set_temperature(self, value):\n",
    "        if value < -273.15:\n",
    "            raise ValueError(\"Temperature below -273.15 is not possible.\")\n",
    "        self._temperature = value\n",
    "t1 = Celsius(37)\n",
    "print(t1.get_temperature())\n",
    "print(t1.to_fahrenheit())"
   ]
  },
  {
   "cell_type": "code",
   "execution_count": 6,
   "id": "585dbea4",
   "metadata": {},
   "outputs": [
    {
     "name": "stdout",
     "output_type": "stream",
     "text": [
      "The method Walk here is overridden in the code\n",
      "Hello, I am the child class\n",
      "Hello, I am the parent class\n"
     ]
    }
   ],
   "source": [
    "#Method overriding in Python is when you have two methods with the same name that each perform different tasks.\n",
    "#This is an important feature of inheritance in Python.\n",
    "\n",
    "\n",
    "class Animal:\n",
    "    def Walk(self):\n",
    "        print('Hello, I am the parent class')\n",
    "\n",
    "class Dog(Animal):\n",
    "    def Walk(self):\n",
    "        print('Hello, I am the child class')\n",
    "        \n",
    "print('The method Walk here is overridden in the code')\n",
    "\n",
    "r = Dog()\n",
    "r.Walk()\n",
    "\n",
    "r = Animal()\n",
    "r.Walk()"
   ]
  },
  {
   "cell_type": "code",
   "execution_count": null,
   "id": "6c5eabac",
   "metadata": {},
   "outputs": [],
   "source": []
  }
 ],
 "metadata": {
  "kernelspec": {
   "display_name": "Python 3 (ipykernel)",
   "language": "python",
   "name": "python3"
  },
  "language_info": {
   "codemirror_mode": {
    "name": "ipython",
    "version": 3
   },
   "file_extension": ".py",
   "mimetype": "text/x-python",
   "name": "python",
   "nbconvert_exporter": "python",
   "pygments_lexer": "ipython3",
   "version": "3.9.13"
  }
 },
 "nbformat": 4,
 "nbformat_minor": 5
}
